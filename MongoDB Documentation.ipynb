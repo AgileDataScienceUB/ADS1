{
 "cells": [
  {
   "cell_type": "markdown",
   "metadata": {},
   "source": [
    "## import this thing"
   ]
  },
  {
   "cell_type": "code",
   "execution_count": 1,
   "metadata": {
    "collapsed": true,
    "scrolled": true
   },
   "outputs": [],
   "source": [
    "import fooddb as db"
   ]
  },
  {
   "cell_type": "markdown",
   "metadata": {},
   "source": [
    "# IMPORTANT: You can call a constructor with a filename and it will (maybe) add all its contents to the database. Don't do it without asking me (Marc) first PLZ <3 or a puppy will die :'(\n",
    "\n",
    "Classes:\n",
    "\n",
    "    - Users\n",
    "        - Users()\n",
    "        - getUsers()\n",
    "        - getUser(username)\n",
    "        - addUser(username, password, name = '', image = '', allergies = '')\n",
    "        - deleteUser(username)\n",
    "    - Recipes\n",
    "        - Recipes()\n",
    "        - getRecipes()\n",
    "    - Ratings\n",
    "        - Ratings()\n",
    "        - getRatings()\n",
    "        - addRating(username, recipe, rating)"
   ]
  },
  {
   "cell_type": "code",
   "execution_count": null,
   "metadata": {
    "collapsed": true,
    "scrolled": true
   },
   "outputs": [],
   "source": [
    "u = db.Users().getUsers()\n",
    "\n",
    "u"
   ]
  },
  {
   "cell_type": "code",
   "execution_count": 7,
   "metadata": {},
   "outputs": [
    {
     "name": "stdout",
     "output_type": "stream",
     "text": [
      "Connected successfully!!!\n"
     ]
    }
   ],
   "source": [
    "r = db.Recipes().getRecipes()"
   ]
  },
  {
   "cell_type": "code",
   "execution_count": null,
   "metadata": {},
   "outputs": [
    {
     "name": "stdout",
     "output_type": "stream",
     "text": [
      "Connected successfully!!!\n"
     ]
    }
   ],
   "source": [
    "a = db.Ratings('ratingsFull.csv').getRatings()\n",
    "\n",
    "a"
   ]
  }
 ],
 "metadata": {
  "kernelspec": {
   "display_name": "Python 3",
   "language": "python",
   "name": "python3"
  },
  "language_info": {
   "codemirror_mode": {
    "name": "ipython",
    "version": 3
   },
   "file_extension": ".py",
   "mimetype": "text/x-python",
   "name": "python",
   "nbconvert_exporter": "python",
   "pygments_lexer": "ipython3",
   "version": "3.6.1"
  }
 },
 "nbformat": 4,
 "nbformat_minor": 2
}
