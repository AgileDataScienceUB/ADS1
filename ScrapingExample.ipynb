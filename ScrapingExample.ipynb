{
 "cells": [
  {
   "cell_type": "code",
   "execution_count": 1,
   "metadata": {
    "collapsed": true
   },
   "outputs": [],
   "source": [
    "import requests\n",
    "from bs4 import BeautifulSoup\n",
    "u = \"www_bbc_co_uk_food_recipes_lemon_cake_29430.html\""
   ]
  },
  {
   "cell_type": "code",
   "execution_count": 2,
   "metadata": {},
   "outputs": [
    {
     "data": {
      "text/plain": [
       "'https://www.bbc.co.uk/food/recipes/lemon_cake_29430'"
      ]
     },
     "execution_count": 2,
     "metadata": {},
     "output_type": "execute_result"
    }
   ],
   "source": [
    "def BBCurl(url):\n",
    "    base = \"https://www.bbc.co.uk/food/recipes/\"\n",
    "    url = url.split(\"recipes_\")[1]\n",
    "    url = url.split(\".\")[0]\n",
    "    return base+url\n",
    "\n",
    "BBCurl(u)"
   ]
  },
  {
   "cell_type": "code",
   "execution_count": 3,
   "metadata": {
    "collapsed": true
   },
   "outputs": [],
   "source": [
    "def readSourceBBC(url, im = False):\n",
    "    r = requests.get(BBCurl(u))\n",
    "    soup = BeautifulSoup(r.content, \"lxml\")\n",
    "    if (im):\n",
    "        img = soup.find('img', itemprop='image')\n",
    "        img = img.attrs['src']\n",
    "    else:\n",
    "        img = None\n",
    "    methodAux = soup.find_all('p', {\"class\" : \"recipe-method__list-item-text\"})\n",
    "    method = []\n",
    "    description = soup.find('p', {\"class\" : \"recipe-description__text\"}).text\n",
    "    for m in methodAux:\n",
    "        method.append(m.text)\n",
    "    return img, method, description\n",
    "    \n",
    "img, method, description = readSourceBBC(u, im = True)"
   ]
  },
  {
   "cell_type": "code",
   "execution_count": 4,
   "metadata": {},
   "outputs": [
    {
     "data": {
      "text/plain": [
       "'https://ichef.bbci.co.uk/food/ic/food_16x9_832/recipes/lemon_cake_29430_16x9.jpg'"
      ]
     },
     "execution_count": 4,
     "metadata": {},
     "output_type": "execute_result"
    }
   ],
   "source": [
    "#link a la imatge\n",
    "img"
   ]
  },
  {
   "cell_type": "code",
   "execution_count": 5,
   "metadata": {},
   "outputs": [
    {
     "data": {
      "text/plain": [
       "['Preheat the oven to 180C/350F/Gas 4.',\n",
       " 'Lightly butter a 26cm x 9cm x 8cm/10in x 3½in x 3in loaf tin and line it with greaseproof paper.',\n",
       " 'In a large mixing bowl, whisk together the eggs, sugar, cream, lemon zest, rum, salt and butter.',\n",
       " 'Sift the flour and baking powder into a separate bowl then whisk it into the egg mixture until you have a smooth batter.',\n",
       " 'Pour the batter into the prepared tin and bake in the oven for 50-60 minutes, turning halfway through cooking. The cake is cooked when a knife blade inserted into the middle comes out clean.',\n",
       " 'Remove the cake from the tin, turn onto a cooling rack and leave to cool for 10 minutes. This will allow the steam to escape before you glaze the cake. Leave the oven turned on.',\n",
       " 'Brush the cake with the warmed apricot glaze and leave for five minutes while you make the lemon glaze.',\n",
       " 'For the lemon glaze, mix together the lemon juice, zest and icing sugar.',\n",
       " 'Heat the mixture in a small pan, or in the microwave, until the sugar has dissolved and you have a syrup.',\n",
       " 'Brush the lemon glaze all over the cake and leave for a few minutes to set.',\n",
       " 'Place the glazed cake in the oven on a baking tray, turn off the heat and leave for 3-5 minutes to dry the glaze and turn it translucent.',\n",
       " 'Remove the cake from the oven and leave to cool to room temperature before serving.']"
      ]
     },
     "execution_count": 5,
     "metadata": {},
     "output_type": "execute_result"
    }
   ],
   "source": [
    "#Llista de strings amb els passos per preparació\n",
    "method"
   ]
  },
  {
   "cell_type": "code",
   "execution_count": 6,
   "metadata": {},
   "outputs": [
    {
     "data": {
      "text/plain": [
       "' This lemon drizzle loaf cake is a French teatime favourite that Raymond Blanc has served at his restaurant for the past 25 years. Equipment and preparation: You will need a 26cm x 9cm x 8cm/10in x 3½in x 3in loaf tin. '"
      ]
     },
     "execution_count": 6,
     "metadata": {},
     "output_type": "execute_result"
    }
   ],
   "source": [
    "#String amb la description.\n",
    "description"
   ]
  }
 ],
 "metadata": {
  "kernelspec": {
   "display_name": "Python 3",
   "language": "python",
   "name": "python3"
  },
  "language_info": {
   "codemirror_mode": {
    "name": "ipython",
    "version": 3
   },
   "file_extension": ".py",
   "mimetype": "text/x-python",
   "name": "python",
   "nbconvert_exporter": "python",
   "pygments_lexer": "ipython3",
   "version": "3.6.2"
  }
 },
 "nbformat": 4,
 "nbformat_minor": 2
}
