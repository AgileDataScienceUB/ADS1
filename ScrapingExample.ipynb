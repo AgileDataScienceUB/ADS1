{
 "cells": [
  {
   "cell_type": "code",
   "execution_count": 1,
   "metadata": {
    "collapsed": true
   },
   "outputs": [],
   "source": [
    "import requests\n",
    "from bs4 import BeautifulSoup\n",
    "u = \"www_bbc_co_uk_food_recipes_almond_and_lemon_polenta_21317\""
   ]
  },
  {
   "cell_type": "code",
   "execution_count": 2,
   "metadata": {},
   "outputs": [
    {
     "data": {
      "text/plain": [
       "'https://www.bbc.co.uk/food/recipes/almond_and_lemon_polenta_21317'"
      ]
     },
     "execution_count": 2,
     "metadata": {},
     "output_type": "execute_result"
    }
   ],
   "source": [
    "def BBCurl(url):\n",
    "    base = \"https://www.bbc.co.uk/food/recipes/\"\n",
    "    url = url.split(\"recipes_\")[1]\n",
    "    url = url.split(\".\")[0]\n",
    "    return base+url\n",
    "\n",
    "BBCurl(u)"
   ]
  },
  {
   "cell_type": "code",
   "execution_count": 11,
   "metadata": {
    "collapsed": true
   },
   "outputs": [],
   "source": [
    "def readSourceBBC(url, im = False):\n",
    "    r = requests.get(BBCurl(u))\n",
    "    soup = BeautifulSoup(r.content, \"lxml\")\n",
    "    if (im):\n",
    "        img = soup.find('img', itemprop='image')\n",
    "        img = img.attrs['src']\n",
    "    else:\n",
    "        img = None\n",
    "    methodAux = soup.find_all('p', {\"class\" : \"recipe-method__list-item-text\"})\n",
    "    method = []\n",
    "    \n",
    "    description = soup.find('p', {\"class\" : \"recipe-description__text\"})\n",
    "    description = description.text\n",
    "    \n",
    "    for m in methodAux:\n",
    "        method.append(m.text)\n",
    "    return img, method, description\n",
    "    \n",
    "img, method, description = readSourceBBC(BBCurl(u), im = True)"
   ]
  },
  {
   "cell_type": "code",
   "execution_count": 4,
   "metadata": {},
   "outputs": [
    {
     "data": {
      "text/plain": [
       "'https://ichef.bbci.co.uk/food/ic/food_16x9_832/recipes/almond_and_lemon_polenta_21317_16x9.jpg'"
      ]
     },
     "execution_count": 4,
     "metadata": {},
     "output_type": "execute_result"
    }
   ],
   "source": [
    "img"
   ]
  },
  {
   "cell_type": "code",
   "execution_count": 5,
   "metadata": {},
   "outputs": [
    {
     "data": {
      "text/plain": [
       "['Preheat the oven to 160C/325F/Gas 3. Grease and line a 25cm/10in cake tin with parchment paper. ',\n",
       " 'Place the butter and sugar in a large mixing bowl and beat with an electric whisk until pale and light. Gradually add the eggs, whisking all the time. Using a large metal spoon, stir in the ground almonds, then fold in the polenta, baking powder, lemon zest and juice and mix to combine.',\n",
       " 'Spoon the mixture into the prepared cake tin and bake for about 1 hour 15 minutes, or until just set and golden-brown.',\n",
       " 'Meanwhile, to make the lemon glaze, put the lemon juice and sugar into a bowl and mix well. When the cake is cooked, prick the surface and pour over the lemon mixture. Let it cool in the tin for 15 minutes.',\n",
       " 'To make the orange mascarpone, gently beat the mascarpone, orange zest, splash of orange juice and icing sugar together until smooth. Set aside. ',\n",
       " 'For the caramelised satsumas, heat a large frying pan over a medium heat and add the sugar and orange juice. Reduce until thickened and syrupy, add the satsuma halves and cook gently for a few minutes on each side until softened and caramelised. Reserve the syrup to serve. ',\n",
       " 'Remove the cake from the tin and cut into wedges to serve. Transfer to a plate, dust with icing sugar and serve with a quenelle of orange mascarpone cream, the caramelised satsuma halves and drizzle the orange syrup over to serve.']"
      ]
     },
     "execution_count": 5,
     "metadata": {},
     "output_type": "execute_result"
    }
   ],
   "source": [
    "method"
   ]
  },
  {
   "cell_type": "code",
   "execution_count": 12,
   "metadata": {},
   "outputs": [
    {
     "data": {
      "text/plain": [
       "' Almond and polenta give this cake a wonderful texture. Served with zesty lemon icing, orange cream cheese and caramelised satsumas. '"
      ]
     },
     "execution_count": 12,
     "metadata": {},
     "output_type": "execute_result"
    }
   ],
   "source": [
    "description"
   ]
  }
 ],
 "metadata": {
  "kernelspec": {
   "display_name": "Python 3",
   "language": "python",
   "name": "python3"
  },
  "language_info": {
   "codemirror_mode": {
    "name": "ipython",
    "version": 3
   },
   "file_extension": ".py",
   "mimetype": "text/x-python",
   "name": "python",
   "nbconvert_exporter": "python",
   "pygments_lexer": "ipython3",
   "version": "3.6.2"
  }
 },
 "nbformat": 4,
 "nbformat_minor": 2
}
