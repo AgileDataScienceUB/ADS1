{
 "cells": [
  {
   "cell_type": "markdown",
   "metadata": {},
   "source": [
    "## Recommender doc\n"
   ]
  },
  {
   "cell_type": "markdown",
   "metadata": {},
   "source": [
    "Considered strategies :\n",
    "\n",
    "+ Recommendation based on ingredients distance\n",
    "+ Recommendation based on type clustering\n",
    "+ Recommendation based on user - recipe rating (collaborative filtering)\n",
    "\n",
    "For this test implemented based on ingredients distance"
   ]
  },
  {
   "cell_type": "markdown",
   "metadata": {},
   "source": [
    "### Recommendation based on ingredients distance"
   ]
  },
  {
   "cell_type": "markdown",
   "metadata": {},
   "source": [
    "This recommender is based solely on the similarity between ingredients between recipes. \n",
    "\n",
    "For this strategy to work on a notion of distance measuring the similarity between two recipes is needed.\n",
    "\n",
    "The distance will be defined as normalized scalar product between a one hot encoder vector of ingredients between two recipes.\n",
    "\n",
    "Once the distance is defined, given a recipe , the similarity of such ingredient versus  others is computed and the N more similar are sorted.\n",
    "\n",
    "Other aspects should be considered (allergies, if the user had previously rated the proposed recipes...) that are not considered in this notebook."
   ]
  },
  {
   "cell_type": "markdown",
   "metadata": {},
   "source": [
    "### Recommendation based on type clustering"
   ]
  },
  {
   "cell_type": "markdown",
   "metadata": {},
   "source": [
    "This strategy is based on the similarity of recipes types (for example similarity between chinese food and indian).\n",
    "\n",
    "Again for this strategy to work on a notion of distance measuring the similarity between two types is needed.\n",
    "\n",
    "To define the distance, a classification of the $N$ different types in $k$ clusters $(k<N)$ is defined. \n",
    "\n",
    "Once the distance is defined, given a recipe , the similarity of such type versus others is computed and the N more similar are sorted.\n",
    "\n",
    "Other aspects should be considered (allergies, if the user had previously rated the proposed recipes...) that are not considered in this notebook.\n",
    "\n",
    "Work in progress."
   ]
  },
  {
   "cell_type": "markdown",
   "metadata": {},
   "source": [
    "### Recommendation based on user - rating (collaborative filtering)"
   ]
  },
  {
   "cell_type": "markdown",
   "metadata": {},
   "source": [
    "The idea beneath this strategy is to implement a recommender using collaborative filtering techniques.\n",
    "\n",
    "This type of techniques uses the different ratings of users to create similarities between them in the sense of recommendations such as : \"Other \"similar\" users also liked this\"\n",
    "\n",
    "Work in progress"
   ]
  },
  {
   "cell_type": "markdown",
   "metadata": {},
   "source": [
    "## Recommendation based on ingredients demo"
   ]
  },
  {
   "cell_type": "code",
   "execution_count": 1,
   "metadata": {
    "collapsed": true
   },
   "outputs": [],
   "source": [
    "import pandas as pd\n",
    "import numpy as np\n",
    "\n"
   ]
  },
  {
   "cell_type": "code",
   "execution_count": 2,
   "metadata": {},
   "outputs": [
    {
     "data": {
      "text/html": [
       "<div>\n",
       "<style>\n",
       "    .dataframe thead tr:only-child th {\n",
       "        text-align: right;\n",
       "    }\n",
       "\n",
       "    .dataframe thead th {\n",
       "        text-align: left;\n",
       "    }\n",
       "\n",
       "    .dataframe tbody tr th {\n",
       "        vertical-align: top;\n",
       "    }\n",
       "</style>\n",
       "<table border=\"1\" class=\"dataframe\">\n",
       "  <thead>\n",
       "    <tr style=\"text-align: right;\">\n",
       "      <th></th>\n",
       "      <th>69</th>\n",
       "      <th>Cos</th>\n",
       "      <th>Doves</th>\n",
       "      <th>English</th>\n",
       "      <th>Farm</th>\n",
       "      <th>Greek</th>\n",
       "      <th>Jarlsberg</th>\n",
       "      <th>Kalamata</th>\n",
       "      <th>Kashmiri</th>\n",
       "      <th>Parmesan</th>\n",
       "      <th>...</th>\n",
       "      <th>yogurt</th>\n",
       "      <th>yolk</th>\n",
       "      <th>yolks</th>\n",
       "      <th>zeera</th>\n",
       "      <th>zest</th>\n",
       "      <th>Â¼</th>\n",
       "      <th>Â½</th>\n",
       "      <th>Â½red</th>\n",
       "      <th>Â¾</th>\n",
       "      <th>â…“</th>\n",
       "    </tr>\n",
       "    <tr>\n",
       "      <th>Unnamed: 0</th>\n",
       "      <th></th>\n",
       "      <th></th>\n",
       "      <th></th>\n",
       "      <th></th>\n",
       "      <th></th>\n",
       "      <th></th>\n",
       "      <th></th>\n",
       "      <th></th>\n",
       "      <th></th>\n",
       "      <th></th>\n",
       "      <th></th>\n",
       "      <th></th>\n",
       "      <th></th>\n",
       "      <th></th>\n",
       "      <th></th>\n",
       "      <th></th>\n",
       "      <th></th>\n",
       "      <th></th>\n",
       "      <th></th>\n",
       "      <th></th>\n",
       "      <th></th>\n",
       "    </tr>\n",
       "  </thead>\n",
       "  <tbody>\n",
       "    <tr>\n",
       "      <th>'Brandade'</th>\n",
       "      <td>0</td>\n",
       "      <td>0</td>\n",
       "      <td>0</td>\n",
       "      <td>0</td>\n",
       "      <td>0</td>\n",
       "      <td>0</td>\n",
       "      <td>0</td>\n",
       "      <td>0</td>\n",
       "      <td>0</td>\n",
       "      <td>0</td>\n",
       "      <td>...</td>\n",
       "      <td>0</td>\n",
       "      <td>0</td>\n",
       "      <td>0</td>\n",
       "      <td>0</td>\n",
       "      <td>0</td>\n",
       "      <td>0</td>\n",
       "      <td>1</td>\n",
       "      <td>0</td>\n",
       "      <td>1</td>\n",
       "      <td>0</td>\n",
       "    </tr>\n",
       "    <tr>\n",
       "      <th>'Dragon prawn' noodles</th>\n",
       "      <td>0</td>\n",
       "      <td>0</td>\n",
       "      <td>0</td>\n",
       "      <td>0</td>\n",
       "      <td>0</td>\n",
       "      <td>0</td>\n",
       "      <td>0</td>\n",
       "      <td>0</td>\n",
       "      <td>0</td>\n",
       "      <td>0</td>\n",
       "      <td>...</td>\n",
       "      <td>0</td>\n",
       "      <td>0</td>\n",
       "      <td>0</td>\n",
       "      <td>0</td>\n",
       "      <td>0</td>\n",
       "      <td>0</td>\n",
       "      <td>0</td>\n",
       "      <td>0</td>\n",
       "      <td>0</td>\n",
       "      <td>0</td>\n",
       "    </tr>\n",
       "    <tr>\n",
       "      <th>'Firecracker' prawns</th>\n",
       "      <td>0</td>\n",
       "      <td>0</td>\n",
       "      <td>0</td>\n",
       "      <td>0</td>\n",
       "      <td>0</td>\n",
       "      <td>0</td>\n",
       "      <td>0</td>\n",
       "      <td>0</td>\n",
       "      <td>0</td>\n",
       "      <td>0</td>\n",
       "      <td>...</td>\n",
       "      <td>0</td>\n",
       "      <td>0</td>\n",
       "      <td>0</td>\n",
       "      <td>0</td>\n",
       "      <td>0</td>\n",
       "      <td>1</td>\n",
       "      <td>0</td>\n",
       "      <td>0</td>\n",
       "      <td>0</td>\n",
       "      <td>0</td>\n",
       "    </tr>\n",
       "    <tr>\n",
       "      <th>'Guilt-free gourmet' sticky toffee pudding</th>\n",
       "      <td>0</td>\n",
       "      <td>0</td>\n",
       "      <td>0</td>\n",
       "      <td>0</td>\n",
       "      <td>0</td>\n",
       "      <td>0</td>\n",
       "      <td>0</td>\n",
       "      <td>0</td>\n",
       "      <td>0</td>\n",
       "      <td>0</td>\n",
       "      <td>...</td>\n",
       "      <td>0</td>\n",
       "      <td>0</td>\n",
       "      <td>0</td>\n",
       "      <td>0</td>\n",
       "      <td>0</td>\n",
       "      <td>1</td>\n",
       "      <td>1</td>\n",
       "      <td>0</td>\n",
       "      <td>0</td>\n",
       "      <td>0</td>\n",
       "    </tr>\n",
       "    <tr>\n",
       "      <th>'Lion head' meatballs</th>\n",
       "      <td>0</td>\n",
       "      <td>0</td>\n",
       "      <td>0</td>\n",
       "      <td>0</td>\n",
       "      <td>0</td>\n",
       "      <td>0</td>\n",
       "      <td>0</td>\n",
       "      <td>0</td>\n",
       "      <td>0</td>\n",
       "      <td>0</td>\n",
       "      <td>...</td>\n",
       "      <td>0</td>\n",
       "      <td>0</td>\n",
       "      <td>0</td>\n",
       "      <td>0</td>\n",
       "      <td>0</td>\n",
       "      <td>1</td>\n",
       "      <td>1</td>\n",
       "      <td>0</td>\n",
       "      <td>0</td>\n",
       "      <td>0</td>\n",
       "    </tr>\n",
       "  </tbody>\n",
       "</table>\n",
       "<p>5 rows × 363 columns</p>\n",
       "</div>"
      ],
      "text/plain": [
       "                                            69  Cos  Doves  English  Farm  \\\n",
       "Unnamed: 0                                                                  \n",
       "'Brandade'                                   0    0      0        0     0   \n",
       "'Dragon prawn' noodles                       0    0      0        0     0   \n",
       "'Firecracker' prawns                         0    0      0        0     0   \n",
       "'Guilt-free gourmet' sticky toffee pudding   0    0      0        0     0   \n",
       "'Lion head' meatballs                        0    0      0        0     0   \n",
       "\n",
       "                                            Greek  Jarlsberg  Kalamata  \\\n",
       "Unnamed: 0                                                               \n",
       "'Brandade'                                      0          0         0   \n",
       "'Dragon prawn' noodles                          0          0         0   \n",
       "'Firecracker' prawns                            0          0         0   \n",
       "'Guilt-free gourmet' sticky toffee pudding      0          0         0   \n",
       "'Lion head' meatballs                           0          0         0   \n",
       "\n",
       "                                            Kashmiri  Parmesan ...   yogurt  \\\n",
       "Unnamed: 0                                                     ...            \n",
       "'Brandade'                                         0         0 ...        0   \n",
       "'Dragon prawn' noodles                             0         0 ...        0   \n",
       "'Firecracker' prawns                               0         0 ...        0   \n",
       "'Guilt-free gourmet' sticky toffee pudding         0         0 ...        0   \n",
       "'Lion head' meatballs                              0         0 ...        0   \n",
       "\n",
       "                                            yolk  yolks  zeera  zest  Â¼  Â½  \\\n",
       "Unnamed: 0                                                                     \n",
       "'Brandade'                                     0      0      0     0   0   1   \n",
       "'Dragon prawn' noodles                         0      0      0     0   0   0   \n",
       "'Firecracker' prawns                           0      0      0     0   1   0   \n",
       "'Guilt-free gourmet' sticky toffee pudding     0      0      0     0   1   1   \n",
       "'Lion head' meatballs                          0      0      0     0   1   1   \n",
       "\n",
       "                                            Â½red  Â¾  â…“  \n",
       "Unnamed: 0                                                  \n",
       "'Brandade'                                      0   1    0  \n",
       "'Dragon prawn' noodles                          0   0    0  \n",
       "'Firecracker' prawns                            0   0    0  \n",
       "'Guilt-free gourmet' sticky toffee pudding      0   0    0  \n",
       "'Lion head' meatballs                           0   0    0  \n",
       "\n",
       "[5 rows x 363 columns]"
      ]
     },
     "execution_count": 2,
     "metadata": {},
     "output_type": "execute_result"
    }
   ],
   "source": [
    "db_recipes_ingredients = pd.read_csv(\"one_hot_ingredients.csv\")\n",
    "db_recipes_ingredients = pd.DataFrame(db_recipes_ingredients)\n",
    "db_recipes_ingredients = db_recipes_ingredients.set_index('Unnamed: 0')\n",
    "db_recipes_ingredients.head()"
   ]
  },
  {
   "cell_type": "code",
   "execution_count": 3,
   "metadata": {
    "collapsed": true
   },
   "outputs": [],
   "source": [
    "def distance_recipes(recipe1,recipe2,db_recipes_ingredients):\n",
    "    return (np.dot(db_recipes_ingredients.loc[recipe1].values\\\n",
    "                ,db_recipes_ingredients.loc[recipe2].values)/np.sum(db_recipes_ingredients.loc[recipe1].values))"
   ]
  },
  {
   "cell_type": "code",
   "execution_count": 5,
   "metadata": {},
   "outputs": [
    {
     "data": {
      "text/plain": [
       "1.0"
      ]
     },
     "execution_count": 5,
     "metadata": {},
     "output_type": "execute_result"
    }
   ],
   "source": [
    "distance_recipes(\"'Brandade'\",\"'Brandade'\",db_recipes_ingredients)"
   ]
  },
  {
   "cell_type": "code",
   "execution_count": 6,
   "metadata": {},
   "outputs": [
    {
     "data": {
      "text/plain": [
       "1.0"
      ]
     },
     "execution_count": 6,
     "metadata": {},
     "output_type": "execute_result"
    }
   ],
   "source": [
    "distance_recipes(\"'Dragon prawn' noodles\",\"'Dragon prawn' noodles\",db_recipes_ingredients)"
   ]
  },
  {
   "cell_type": "code",
   "execution_count": 7,
   "metadata": {},
   "outputs": [
    {
     "data": {
      "text/plain": [
       "0.22222222222222221"
      ]
     },
     "execution_count": 7,
     "metadata": {},
     "output_type": "execute_result"
    }
   ],
   "source": [
    "distance_recipes(\"'Brandade'\",\"'Dragon prawn' noodles\",db_recipes_ingredients)"
   ]
  },
  {
   "cell_type": "code",
   "execution_count": 8,
   "metadata": {},
   "outputs": [
    {
     "data": {
      "text/plain": [
       "0.19047619047619047"
      ]
     },
     "execution_count": 8,
     "metadata": {},
     "output_type": "execute_result"
    }
   ],
   "source": [
    "distance_recipes(\"'Guilt-free gourmet' sticky toffee pudding\",\"'Dragon prawn' noodles\",db_recipes_ingredients)"
   ]
  },
  {
   "cell_type": "code",
   "execution_count": 75,
   "metadata": {},
   "outputs": [],
   "source": [
    "def recommend_me(recipe1):\n",
    "    df_aux = pd.DataFrame(index =db_recipes_ingredients.index)\n",
    "    df_aux[\"dist\"] = 0.0\n",
    "    for rec in db_recipes_ingredients.index:\n",
    "        df_aux.loc[rec]['dist'] = distance_recipes(recipe1,rec,db_recipes_ingredients)\n",
    "    df_return = df_aux[(df_aux[\"dist\"]>0.6) & (df_aux[\"dist\"]!=1)].sort_values(by=[\"dist\"])[0:7]\n",
    "    return df_return.index"
   ]
  },
  {
   "cell_type": "code",
   "execution_count": 78,
   "metadata": {},
   "outputs": [],
   "source": [
    "test = recommend_me(\"'Dragon prawn' noodles\")"
   ]
  },
  {
   "cell_type": "code",
   "execution_count": 79,
   "metadata": {},
   "outputs": [
    {
     "data": {
      "text/plain": [
       "Index(['Pork chow mein', 'Delicious fried rice',\n",
       "       'Fish in a hot and sour sauce', 'Galinha Ã  Portuguesa',\n",
       "       'Garlic chicken with cucumber',\n",
       "       'Stir-fried lobster with black bean sauce', 'Gong bao haddock goujons'],\n",
       "      dtype='object', name='Unnamed: 0')"
      ]
     },
     "execution_count": 79,
     "metadata": {},
     "output_type": "execute_result"
    }
   ],
   "source": [
    "test"
   ]
  },
  {
   "cell_type": "code",
   "execution_count": null,
   "metadata": {
    "collapsed": true
   },
   "outputs": [],
   "source": []
  },
  {
   "cell_type": "code",
   "execution_count": null,
   "metadata": {
    "collapsed": true
   },
   "outputs": [],
   "source": []
  }
 ],
 "metadata": {
  "kernelspec": {
   "display_name": "Python 3",
   "language": "python",
   "name": "python3"
  },
  "language_info": {
   "codemirror_mode": {
    "name": "ipython",
    "version": 3
   },
   "file_extension": ".py",
   "mimetype": "text/x-python",
   "name": "python",
   "nbconvert_exporter": "python",
   "pygments_lexer": "ipython3",
   "version": "3.6.1"
  }
 },
 "nbformat": 4,
 "nbformat_minor": 2
}
