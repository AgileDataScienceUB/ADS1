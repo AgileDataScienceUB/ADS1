{
 "cells": [
  {
   "cell_type": "markdown",
   "metadata": {},
   "source": [
    "## Recommender doc\n"
   ]
  },
  {
   "cell_type": "markdown",
   "metadata": {},
   "source": [
    "Considered strategies :\n",
    "\n",
    "+ Recommendation based on ingredients distance\n",
    "+ Recommendation based on type clustering\n",
    "+ Recommendation based on user - recipe rating (collaborative filtering)\n",
    "\n",
    "For this test implemented based on ingredients distance"
   ]
  },
  {
   "cell_type": "markdown",
   "metadata": {},
   "source": [
    "### Recommendation based on ingredients distance"
   ]
  },
  {
   "cell_type": "markdown",
   "metadata": {},
   "source": [
    "This recommender is based solely on the similarity between ingredients between recipes. \n",
    "\n",
    "For this strategy to work on a notion of distance measuring the similarity between two recipes is needed.\n",
    "\n",
    "The distance will be defined as normalized scalar product between a one hot encoder vector of ingredients between two recipes.\n",
    "\n",
    "Once the distance is defined, given a recipe , the similarity of such ingredient versus  others is computed and the N more similar are sorted.\n",
    "\n",
    "Other aspects should be considered (allergies, if the user had previously rated the proposed recipes...) that are not considered in this notebook."
   ]
  },
  {
   "cell_type": "markdown",
   "metadata": {},
   "source": [
    "### Recommendation based on type clustering"
   ]
  },
  {
   "cell_type": "markdown",
   "metadata": {},
   "source": [
    "This strategy is based on the similarity of recipes types (for example similarity between chinese food and indian).\n",
    "\n",
    "Again for this strategy to work on a notion of distance measuring the similarity between two types is needed.\n",
    "\n",
    "To define the distance, a classification of the $M$ different types in $k$ clusters $(k<M)$ is defined. \n",
    "\n",
    "Once the distance is defined, given a recipe , the similarity of such type versus others is computed and the N more similar are sorted.\n",
    "\n",
    "Other aspects should be considered (allergies, if the user had previously rated the proposed recipes...) that are not considered in this notebook.\n",
    "\n",
    "Work in progress."
   ]
  },
  {
   "cell_type": "markdown",
   "metadata": {},
   "source": [
    "### Recommendation based on user - rating (collaborative filtering)"
   ]
  },
  {
   "cell_type": "markdown",
   "metadata": {},
   "source": [
    "The idea beneath this strategy is to implement a recommender using collaborative filtering techniques.\n",
    "\n",
    "This type of techniques uses the different ratings of users to create similarities between them to output recommendations such as : \"Other \"similar\" users also liked this\"\n",
    "\n",
    "Work in progress"
   ]
  },
  {
   "cell_type": "markdown",
   "metadata": {},
   "source": [
    "## Recommendation based on ingredients demo"
   ]
  },
  {
   "cell_type": "code",
   "execution_count": 1,
   "metadata": {
    "collapsed": true
   },
   "outputs": [],
   "source": [
    "import pandas as pd\n",
    "import numpy as np\n",
    "\n"
   ]
  },
  {
   "cell_type": "code",
   "execution_count": 2,
   "metadata": {},
   "outputs": [
    {
     "data": {
      "text/html": [
       "<div>\n",
       "<style>\n",
       "    .dataframe thead tr:only-child th {\n",
       "        text-align: right;\n",
       "    }\n",
       "\n",
       "    .dataframe thead th {\n",
       "        text-align: left;\n",
       "    }\n",
       "\n",
       "    .dataframe tbody tr th {\n",
       "        vertical-align: top;\n",
       "    }\n",
       "</style>\n",
       "<table border=\"1\" class=\"dataframe\">\n",
       "  <thead>\n",
       "    <tr style=\"text-align: right;\">\n",
       "      <th></th>\n",
       "      <th>69</th>\n",
       "      <th>Cos</th>\n",
       "      <th>Doves</th>\n",
       "      <th>English</th>\n",
       "      <th>Farm</th>\n",
       "      <th>Greek</th>\n",
       "      <th>Jarlsberg</th>\n",
       "      <th>Kalamata</th>\n",
       "      <th>Kashmiri</th>\n",
       "      <th>Parmesan</th>\n",
       "      <th>...</th>\n",
       "      <th>yogurt</th>\n",
       "      <th>yolk</th>\n",
       "      <th>yolks</th>\n",
       "      <th>zeera</th>\n",
       "      <th>zest</th>\n",
       "      <th>Â¼</th>\n",
       "      <th>Â½</th>\n",
       "      <th>Â½red</th>\n",
       "      <th>Â¾</th>\n",
       "      <th>â…“</th>\n",
       "    </tr>\n",
       "    <tr>\n",
       "      <th>Unnamed: 0</th>\n",
       "      <th></th>\n",
       "      <th></th>\n",
       "      <th></th>\n",
       "      <th></th>\n",
       "      <th></th>\n",
       "      <th></th>\n",
       "      <th></th>\n",
       "      <th></th>\n",
       "      <th></th>\n",
       "      <th></th>\n",
       "      <th></th>\n",
       "      <th></th>\n",
       "      <th></th>\n",
       "      <th></th>\n",
       "      <th></th>\n",
       "      <th></th>\n",
       "      <th></th>\n",
       "      <th></th>\n",
       "      <th></th>\n",
       "      <th></th>\n",
       "      <th></th>\n",
       "    </tr>\n",
       "  </thead>\n",
       "  <tbody>\n",
       "    <tr>\n",
       "      <th>'Brandade'</th>\n",
       "      <td>0</td>\n",
       "      <td>0</td>\n",
       "      <td>0</td>\n",
       "      <td>0</td>\n",
       "      <td>0</td>\n",
       "      <td>0</td>\n",
       "      <td>0</td>\n",
       "      <td>0</td>\n",
       "      <td>0</td>\n",
       "      <td>0</td>\n",
       "      <td>...</td>\n",
       "      <td>0</td>\n",
       "      <td>0</td>\n",
       "      <td>0</td>\n",
       "      <td>0</td>\n",
       "      <td>0</td>\n",
       "      <td>0</td>\n",
       "      <td>1</td>\n",
       "      <td>0</td>\n",
       "      <td>1</td>\n",
       "      <td>0</td>\n",
       "    </tr>\n",
       "    <tr>\n",
       "      <th>'Dragon prawn' noodles</th>\n",
       "      <td>0</td>\n",
       "      <td>0</td>\n",
       "      <td>0</td>\n",
       "      <td>0</td>\n",
       "      <td>0</td>\n",
       "      <td>0</td>\n",
       "      <td>0</td>\n",
       "      <td>0</td>\n",
       "      <td>0</td>\n",
       "      <td>0</td>\n",
       "      <td>...</td>\n",
       "      <td>0</td>\n",
       "      <td>0</td>\n",
       "      <td>0</td>\n",
       "      <td>0</td>\n",
       "      <td>0</td>\n",
       "      <td>0</td>\n",
       "      <td>0</td>\n",
       "      <td>0</td>\n",
       "      <td>0</td>\n",
       "      <td>0</td>\n",
       "    </tr>\n",
       "    <tr>\n",
       "      <th>'Firecracker' prawns</th>\n",
       "      <td>0</td>\n",
       "      <td>0</td>\n",
       "      <td>0</td>\n",
       "      <td>0</td>\n",
       "      <td>0</td>\n",
       "      <td>0</td>\n",
       "      <td>0</td>\n",
       "      <td>0</td>\n",
       "      <td>0</td>\n",
       "      <td>0</td>\n",
       "      <td>...</td>\n",
       "      <td>0</td>\n",
       "      <td>0</td>\n",
       "      <td>0</td>\n",
       "      <td>0</td>\n",
       "      <td>0</td>\n",
       "      <td>1</td>\n",
       "      <td>0</td>\n",
       "      <td>0</td>\n",
       "      <td>0</td>\n",
       "      <td>0</td>\n",
       "    </tr>\n",
       "    <tr>\n",
       "      <th>'Guilt-free gourmet' sticky toffee pudding</th>\n",
       "      <td>0</td>\n",
       "      <td>0</td>\n",
       "      <td>0</td>\n",
       "      <td>0</td>\n",
       "      <td>0</td>\n",
       "      <td>0</td>\n",
       "      <td>0</td>\n",
       "      <td>0</td>\n",
       "      <td>0</td>\n",
       "      <td>0</td>\n",
       "      <td>...</td>\n",
       "      <td>0</td>\n",
       "      <td>0</td>\n",
       "      <td>0</td>\n",
       "      <td>0</td>\n",
       "      <td>0</td>\n",
       "      <td>1</td>\n",
       "      <td>1</td>\n",
       "      <td>0</td>\n",
       "      <td>0</td>\n",
       "      <td>0</td>\n",
       "    </tr>\n",
       "    <tr>\n",
       "      <th>'Lion head' meatballs</th>\n",
       "      <td>0</td>\n",
       "      <td>0</td>\n",
       "      <td>0</td>\n",
       "      <td>0</td>\n",
       "      <td>0</td>\n",
       "      <td>0</td>\n",
       "      <td>0</td>\n",
       "      <td>0</td>\n",
       "      <td>0</td>\n",
       "      <td>0</td>\n",
       "      <td>...</td>\n",
       "      <td>0</td>\n",
       "      <td>0</td>\n",
       "      <td>0</td>\n",
       "      <td>0</td>\n",
       "      <td>0</td>\n",
       "      <td>1</td>\n",
       "      <td>1</td>\n",
       "      <td>0</td>\n",
       "      <td>0</td>\n",
       "      <td>0</td>\n",
       "    </tr>\n",
       "  </tbody>\n",
       "</table>\n",
       "<p>5 rows × 363 columns</p>\n",
       "</div>"
      ],
      "text/plain": [
       "                                            69  Cos  Doves  English  Farm  \\\n",
       "Unnamed: 0                                                                  \n",
       "'Brandade'                                   0    0      0        0     0   \n",
       "'Dragon prawn' noodles                       0    0      0        0     0   \n",
       "'Firecracker' prawns                         0    0      0        0     0   \n",
       "'Guilt-free gourmet' sticky toffee pudding   0    0      0        0     0   \n",
       "'Lion head' meatballs                        0    0      0        0     0   \n",
       "\n",
       "                                            Greek  Jarlsberg  Kalamata  \\\n",
       "Unnamed: 0                                                               \n",
       "'Brandade'                                      0          0         0   \n",
       "'Dragon prawn' noodles                          0          0         0   \n",
       "'Firecracker' prawns                            0          0         0   \n",
       "'Guilt-free gourmet' sticky toffee pudding      0          0         0   \n",
       "'Lion head' meatballs                           0          0         0   \n",
       "\n",
       "                                            Kashmiri  Parmesan ...   yogurt  \\\n",
       "Unnamed: 0                                                     ...            \n",
       "'Brandade'                                         0         0 ...        0   \n",
       "'Dragon prawn' noodles                             0         0 ...        0   \n",
       "'Firecracker' prawns                               0         0 ...        0   \n",
       "'Guilt-free gourmet' sticky toffee pudding         0         0 ...        0   \n",
       "'Lion head' meatballs                              0         0 ...        0   \n",
       "\n",
       "                                            yolk  yolks  zeera  zest  Â¼  Â½  \\\n",
       "Unnamed: 0                                                                     \n",
       "'Brandade'                                     0      0      0     0   0   1   \n",
       "'Dragon prawn' noodles                         0      0      0     0   0   0   \n",
       "'Firecracker' prawns                           0      0      0     0   1   0   \n",
       "'Guilt-free gourmet' sticky toffee pudding     0      0      0     0   1   1   \n",
       "'Lion head' meatballs                          0      0      0     0   1   1   \n",
       "\n",
       "                                            Â½red  Â¾  â…“  \n",
       "Unnamed: 0                                                  \n",
       "'Brandade'                                      0   1    0  \n",
       "'Dragon prawn' noodles                          0   0    0  \n",
       "'Firecracker' prawns                            0   0    0  \n",
       "'Guilt-free gourmet' sticky toffee pudding      0   0    0  \n",
       "'Lion head' meatballs                           0   0    0  \n",
       "\n",
       "[5 rows x 363 columns]"
      ]
     },
     "execution_count": 2,
     "metadata": {},
     "output_type": "execute_result"
    }
   ],
   "source": [
    "db_recipes_ingredients = pd.read_csv(\"one_hot_ingredients.csv\")\n",
    "db_recipes_ingredients = pd.DataFrame(db_recipes_ingredients)\n",
    "db_recipes_ingredients = db_recipes_ingredients.set_index('Unnamed: 0')\n",
    "db_recipes_ingredients.head()"
   ]
  },
  {
   "cell_type": "code",
   "execution_count": 5,
   "metadata": {
    "collapsed": true
   },
   "outputs": [],
   "source": [
    "def distance_recipes(recipe1,recipe2,db_recipes_ingredients):\n",
    "    return (np.dot(db_recipes_ingredients.loc[recipe1].values\\\n",
    "                ,db_recipes_ingredients.loc[recipe2].values)/np.sum(db_recipes_ingredients.loc[recipe1].values))\n",
    "\n",
    "def distance_recipes_norm(recipe1,recipe2,db_recipes_ingredients):\n",
    "    return (2*(np.dot(db_recipes_ingredients.loc[recipe1].values\\\n",
    "                ,db_recipes_ingredients.loc[recipe2].values)/np.sum(db_recipes_ingredients.loc[recipe1].values)-0.5))"
   ]
  },
  {
   "cell_type": "code",
   "execution_count": 5,
   "metadata": {},
   "outputs": [
    {
     "data": {
      "text/plain": [
       "1.0"
      ]
     },
     "execution_count": 5,
     "metadata": {},
     "output_type": "execute_result"
    }
   ],
   "source": [
    "distance_recipes(\"'Brandade'\",\"'Brandade'\",db_recipes_ingredients)"
   ]
  },
  {
   "cell_type": "code",
   "execution_count": 6,
   "metadata": {},
   "outputs": [
    {
     "data": {
      "text/plain": [
       "1.0"
      ]
     },
     "execution_count": 6,
     "metadata": {},
     "output_type": "execute_result"
    }
   ],
   "source": [
    "distance_recipes_norm(\"'Dragon prawn' noodles\",\"'Dragon prawn' noodles\",db_recipes_ingredients)"
   ]
  },
  {
   "cell_type": "code",
   "execution_count": 7,
   "metadata": {},
   "outputs": [
    {
     "data": {
      "text/plain": [
       "0.22222222222222221"
      ]
     },
     "execution_count": 7,
     "metadata": {},
     "output_type": "execute_result"
    }
   ],
   "source": [
    "distance_recipes(\"'Brandade'\",\"'Dragon prawn' noodles\",db_recipes_ingredients)"
   ]
  },
  {
   "cell_type": "code",
   "execution_count": 8,
   "metadata": {},
   "outputs": [
    {
     "data": {
      "text/plain": [
       "-0.55555555555555558"
      ]
     },
     "execution_count": 8,
     "metadata": {},
     "output_type": "execute_result"
    }
   ],
   "source": [
    "distance_recipes_norm(\"'Brandade'\",\"'Dragon prawn' noodles\",db_recipes_ingredients)"
   ]
  },
  {
   "cell_type": "code",
   "execution_count": 8,
   "metadata": {},
   "outputs": [
    {
     "data": {
      "text/plain": [
       "0.19047619047619047"
      ]
     },
     "execution_count": 8,
     "metadata": {},
     "output_type": "execute_result"
    }
   ],
   "source": [
    "distance_recipes(\"'Guilt-free gourmet' sticky toffee pudding\",\"'Dragon prawn' noodles\",db_recipes_ingredients)"
   ]
  },
  {
   "cell_type": "code",
   "execution_count": 9,
   "metadata": {
    "collapsed": true
   },
   "outputs": [],
   "source": [
    "def recommend_me(recipe1):\n",
    "    M = 7\n",
    "    df_aux = pd.DataFrame(index =db_recipes_ingredients.index)\n",
    "    df_aux[\"dist\"] = 0.0\n",
    "    for rec in db_recipes_ingredients.index:\n",
    "        df_aux.loc[rec]['dist'] = distance_recipes(recipe1,rec,db_recipes_ingredients)\n",
    "    df_return = df_aux[(df_aux[\"dist\"]>0.6) & (df_aux[\"dist\"]!=1)].sort_values(by=[\"dist\"])[0:M]\n",
    "    return df_return.index"
   ]
  },
  {
   "cell_type": "code",
   "execution_count": 10,
   "metadata": {
    "collapsed": true
   },
   "outputs": [],
   "source": [
    "test = recommend_me(\"'Dragon prawn' noodles\")"
   ]
  },
  {
   "cell_type": "code",
   "execution_count": 11,
   "metadata": {},
   "outputs": [
    {
     "data": {
      "text/plain": [
       "Index(['Pork chow mein', 'Delicious fried rice',\n",
       "       'Fish in a hot and sour sauce', 'Galinha Ã  Portuguesa',\n",
       "       'Garlic chicken with cucumber',\n",
       "       'Stir-fried lobster with black bean sauce', 'Gong bao haddock goujons'],\n",
       "      dtype='object', name='Unnamed: 0')"
      ]
     },
     "execution_count": 11,
     "metadata": {},
     "output_type": "execute_result"
    }
   ],
   "source": [
    "test"
   ]
  },
  {
   "cell_type": "markdown",
   "metadata": {
    "collapsed": true
   },
   "source": [
    "## Recommendation based on Types"
   ]
  },
  {
   "cell_type": "markdown",
   "metadata": {},
   "source": [
    "The number is the \"probability\" of appearance of an ingredient. It has been computed as the frequency of appearence of the ingredient for a given type of food."
   ]
  },
  {
   "cell_type": "code",
   "execution_count": 16,
   "metadata": {},
   "outputs": [
    {
     "data": {
      "text/html": [
       "<div>\n",
       "<style>\n",
       "    .dataframe thead tr:only-child th {\n",
       "        text-align: right;\n",
       "    }\n",
       "\n",
       "    .dataframe thead th {\n",
       "        text-align: left;\n",
       "    }\n",
       "\n",
       "    .dataframe tbody tr th {\n",
       "        vertical-align: top;\n",
       "    }\n",
       "</style>\n",
       "<table border=\"1\" class=\"dataframe\">\n",
       "  <thead>\n",
       "    <tr style=\"text-align: right;\">\n",
       "      <th></th>\n",
       "      <th>69</th>\n",
       "      <th>Cos</th>\n",
       "      <th>Doves</th>\n",
       "      <th>English</th>\n",
       "      <th>Farm</th>\n",
       "      <th>Greek</th>\n",
       "      <th>Jarlsberg</th>\n",
       "      <th>Kalamata</th>\n",
       "      <th>Kashmiri</th>\n",
       "      <th>Parmesan</th>\n",
       "      <th>...</th>\n",
       "      <th>yogurt</th>\n",
       "      <th>yolk</th>\n",
       "      <th>yolks</th>\n",
       "      <th>zeera</th>\n",
       "      <th>zest</th>\n",
       "      <th>Â¼</th>\n",
       "      <th>Â½</th>\n",
       "      <th>Â½red</th>\n",
       "      <th>Â¾</th>\n",
       "      <th>â…“</th>\n",
       "    </tr>\n",
       "    <tr>\n",
       "      <th>type</th>\n",
       "      <th></th>\n",
       "      <th></th>\n",
       "      <th></th>\n",
       "      <th></th>\n",
       "      <th></th>\n",
       "      <th></th>\n",
       "      <th></th>\n",
       "      <th></th>\n",
       "      <th></th>\n",
       "      <th></th>\n",
       "      <th></th>\n",
       "      <th></th>\n",
       "      <th></th>\n",
       "      <th></th>\n",
       "      <th></th>\n",
       "      <th></th>\n",
       "      <th></th>\n",
       "      <th></th>\n",
       "      <th></th>\n",
       "      <th></th>\n",
       "      <th></th>\n",
       "    </tr>\n",
       "  </thead>\n",
       "  <tbody>\n",
       "    <tr>\n",
       "      <th>Albanian</th>\n",
       "      <td>0.0</td>\n",
       "      <td>0.000000</td>\n",
       "      <td>0.0</td>\n",
       "      <td>0.000000</td>\n",
       "      <td>0.0</td>\n",
       "      <td>1.000000</td>\n",
       "      <td>0.0</td>\n",
       "      <td>0.000000</td>\n",
       "      <td>0.0</td>\n",
       "      <td>0.000000</td>\n",
       "      <td>...</td>\n",
       "      <td>0.0</td>\n",
       "      <td>0.000000</td>\n",
       "      <td>0.000000</td>\n",
       "      <td>0.0</td>\n",
       "      <td>0.000000</td>\n",
       "      <td>1.000000</td>\n",
       "      <td>1.000000</td>\n",
       "      <td>0.0</td>\n",
       "      <td>1.000000</td>\n",
       "      <td>0.0</td>\n",
       "    </tr>\n",
       "    <tr>\n",
       "      <th>American</th>\n",
       "      <td>0.0</td>\n",
       "      <td>0.005747</td>\n",
       "      <td>0.0</td>\n",
       "      <td>0.034483</td>\n",
       "      <td>0.0</td>\n",
       "      <td>0.045977</td>\n",
       "      <td>0.0</td>\n",
       "      <td>0.005747</td>\n",
       "      <td>0.0</td>\n",
       "      <td>0.011494</td>\n",
       "      <td>...</td>\n",
       "      <td>0.0</td>\n",
       "      <td>0.074713</td>\n",
       "      <td>0.040230</td>\n",
       "      <td>0.0</td>\n",
       "      <td>0.103448</td>\n",
       "      <td>0.218391</td>\n",
       "      <td>0.793103</td>\n",
       "      <td>0.0</td>\n",
       "      <td>0.270115</td>\n",
       "      <td>0.0</td>\n",
       "    </tr>\n",
       "    <tr>\n",
       "      <th>Arabian</th>\n",
       "      <td>0.0</td>\n",
       "      <td>0.000000</td>\n",
       "      <td>0.0</td>\n",
       "      <td>0.000000</td>\n",
       "      <td>0.0</td>\n",
       "      <td>0.000000</td>\n",
       "      <td>0.0</td>\n",
       "      <td>0.000000</td>\n",
       "      <td>0.0</td>\n",
       "      <td>0.000000</td>\n",
       "      <td>...</td>\n",
       "      <td>0.0</td>\n",
       "      <td>0.333333</td>\n",
       "      <td>0.333333</td>\n",
       "      <td>0.0</td>\n",
       "      <td>0.000000</td>\n",
       "      <td>0.000000</td>\n",
       "      <td>1.000000</td>\n",
       "      <td>0.0</td>\n",
       "      <td>0.333333</td>\n",
       "      <td>0.0</td>\n",
       "    </tr>\n",
       "    <tr>\n",
       "      <th>Argentinian</th>\n",
       "      <td>0.0</td>\n",
       "      <td>0.000000</td>\n",
       "      <td>0.0</td>\n",
       "      <td>0.000000</td>\n",
       "      <td>0.0</td>\n",
       "      <td>0.000000</td>\n",
       "      <td>0.0</td>\n",
       "      <td>0.000000</td>\n",
       "      <td>0.0</td>\n",
       "      <td>0.000000</td>\n",
       "      <td>...</td>\n",
       "      <td>0.0</td>\n",
       "      <td>0.333333</td>\n",
       "      <td>0.000000</td>\n",
       "      <td>0.0</td>\n",
       "      <td>0.000000</td>\n",
       "      <td>0.333333</td>\n",
       "      <td>1.000000</td>\n",
       "      <td>0.0</td>\n",
       "      <td>0.333333</td>\n",
       "      <td>0.0</td>\n",
       "    </tr>\n",
       "    <tr>\n",
       "      <th>Armenian</th>\n",
       "      <td>0.0</td>\n",
       "      <td>0.000000</td>\n",
       "      <td>0.0</td>\n",
       "      <td>0.000000</td>\n",
       "      <td>0.0</td>\n",
       "      <td>0.000000</td>\n",
       "      <td>0.0</td>\n",
       "      <td>0.000000</td>\n",
       "      <td>0.0</td>\n",
       "      <td>0.000000</td>\n",
       "      <td>...</td>\n",
       "      <td>0.0</td>\n",
       "      <td>0.000000</td>\n",
       "      <td>0.000000</td>\n",
       "      <td>0.0</td>\n",
       "      <td>0.333333</td>\n",
       "      <td>0.000000</td>\n",
       "      <td>0.333333</td>\n",
       "      <td>0.0</td>\n",
       "      <td>0.000000</td>\n",
       "      <td>0.0</td>\n",
       "    </tr>\n",
       "  </tbody>\n",
       "</table>\n",
       "<p>5 rows × 363 columns</p>\n",
       "</div>"
      ],
      "text/plain": [
       "              69       Cos  Doves   English  Farm     Greek  Jarlsberg  \\\n",
       "type                                                                     \n",
       "Albanian     0.0  0.000000    0.0  0.000000   0.0  1.000000        0.0   \n",
       "American     0.0  0.005747    0.0  0.034483   0.0  0.045977        0.0   \n",
       "Arabian      0.0  0.000000    0.0  0.000000   0.0  0.000000        0.0   \n",
       "Argentinian  0.0  0.000000    0.0  0.000000   0.0  0.000000        0.0   \n",
       "Armenian     0.0  0.000000    0.0  0.000000   0.0  0.000000        0.0   \n",
       "\n",
       "             Kalamata  Kashmiri  Parmesan ...   yogurt      yolk     yolks  \\\n",
       "type                                      ...                                \n",
       "Albanian     0.000000       0.0  0.000000 ...      0.0  0.000000  0.000000   \n",
       "American     0.005747       0.0  0.011494 ...      0.0  0.074713  0.040230   \n",
       "Arabian      0.000000       0.0  0.000000 ...      0.0  0.333333  0.333333   \n",
       "Argentinian  0.000000       0.0  0.000000 ...      0.0  0.333333  0.000000   \n",
       "Armenian     0.000000       0.0  0.000000 ...      0.0  0.000000  0.000000   \n",
       "\n",
       "             zeera      zest        Â¼        Â½  Â½red        Â¾  â…“  \n",
       "type                                                                    \n",
       "Albanian       0.0  0.000000  1.000000  1.000000    0.0  1.000000  0.0  \n",
       "American       0.0  0.103448  0.218391  0.793103    0.0  0.270115  0.0  \n",
       "Arabian        0.0  0.000000  0.000000  1.000000    0.0  0.333333  0.0  \n",
       "Argentinian    0.0  0.000000  0.333333  1.000000    0.0  0.333333  0.0  \n",
       "Armenian       0.0  0.333333  0.000000  0.333333    0.0  0.000000  0.0  \n",
       "\n",
       "[5 rows x 363 columns]"
      ]
     },
     "execution_count": 16,
     "metadata": {},
     "output_type": "execute_result"
    }
   ],
   "source": [
    "db_types_ingredients = pd.read_csv(\"one_hot_types_ingredients.csv\")\n",
    "db_types_ingredients = pd.DataFrame(db_types_ingredients)\n",
    "db_types_ingredients = db_types_ingredients.set_index('type')\n",
    "db_types_ingredients.head()"
   ]
  },
  {
   "cell_type": "code",
   "execution_count": 57,
   "metadata": {},
   "outputs": [],
   "source": [
    "def distance_types(type1,type2,db_types_ingredients):\n",
    "    return (np.dot(db_types_ingredients.loc[type1].values\\\n",
    "                ,db_types_ingredients.loc[type2].values)/\\\n",
    "                max(np.sum(db_types_ingredients.loc[type1].values*db_types_ingredients.loc[type1].values),np.sum(db_types_ingredients.loc[type2].values*db_types_ingredients.loc[type2].values)))\n",
    "\n",
    "def distance_types_norm(type1,type2,db_types_ingredients):\n",
    "    return (2*(np.dot(db_types_ingredients.loc[type1].values\\\n",
    "                ,db_types_ingredients.loc[type2].values)/\\\n",
    "                max(np.sum(db_types_ingredients.loc[type1].values*db_types_ingredients.loc[type1].values),np.sum(db_types_ingredients.loc[type2].values*db_types_ingredients.loc[type2].values))-0.5))"
   ]
  },
  {
   "cell_type": "markdown",
   "metadata": {},
   "source": [
    "Some examples :"
   ]
  },
  {
   "cell_type": "code",
   "execution_count": 35,
   "metadata": {},
   "outputs": [
    {
     "data": {
      "text/plain": [
       "0.28297755883962783"
      ]
     },
     "execution_count": 35,
     "metadata": {},
     "output_type": "execute_result"
    }
   ],
   "source": [
    "distance_types(\"Albanian\",\"American\",db_types_ingredients)"
   ]
  },
  {
   "cell_type": "code",
   "execution_count": 36,
   "metadata": {},
   "outputs": [
    {
     "data": {
      "text/plain": [
       "-0.43404488232074434"
      ]
     },
     "execution_count": 36,
     "metadata": {},
     "output_type": "execute_result"
    }
   ],
   "source": [
    "distance_types_norm(\"Albanian\",\"American\",db_types_ingredients)"
   ]
  },
  {
   "cell_type": "code",
   "execution_count": 58,
   "metadata": {},
   "outputs": [
    {
     "data": {
      "text/plain": [
       "1.0"
      ]
     },
     "execution_count": 58,
     "metadata": {},
     "output_type": "execute_result"
    }
   ],
   "source": [
    "distance_types_norm(\"American\",\"American\",db_types_ingredients)"
   ]
  },
  {
   "cell_type": "code",
   "execution_count": 59,
   "metadata": {},
   "outputs": [
    {
     "data": {
      "text/plain": [
       "1.0"
      ]
     },
     "execution_count": 59,
     "metadata": {},
     "output_type": "execute_result"
    }
   ],
   "source": [
    "distance_types(\"American\",\"American\",db_types_ingredients)"
   ]
  },
  {
   "cell_type": "markdown",
   "metadata": {},
   "source": [
    "Commutative? "
   ]
  },
  {
   "cell_type": "code",
   "execution_count": 69,
   "metadata": {},
   "outputs": [
    {
     "data": {
      "text/plain": [
       "0.70386480094369541"
      ]
     },
     "execution_count": 69,
     "metadata": {},
     "output_type": "execute_result"
    }
   ],
   "source": [
    "distance_types_norm(\"Thai\",\"Chinese\",db_types_ingredients)"
   ]
  },
  {
   "cell_type": "code",
   "execution_count": 70,
   "metadata": {},
   "outputs": [
    {
     "data": {
      "text/plain": [
       "0.70386480094369541"
      ]
     },
     "execution_count": 70,
     "metadata": {},
     "output_type": "execute_result"
    }
   ],
   "source": [
    "distance_types_norm(\"Chinese\",\"Thai\",db_types_ingredients)"
   ]
  },
  {
   "cell_type": "code",
   "execution_count": 71,
   "metadata": {},
   "outputs": [
    {
     "data": {
      "text/plain": [
       "0.64818223703396927"
      ]
     },
     "execution_count": 71,
     "metadata": {},
     "output_type": "execute_result"
    }
   ],
   "source": [
    "distance_types(\"Spanish\",\"Thai\",db_types_ingredients)"
   ]
  },
  {
   "cell_type": "code",
   "execution_count": 72,
   "metadata": {},
   "outputs": [
    {
     "data": {
      "text/plain": [
       "0.64818223703396927"
      ]
     },
     "execution_count": 72,
     "metadata": {},
     "output_type": "execute_result"
    }
   ],
   "source": [
    "distance_types(\"Thai\",\"Spanish\",db_types_ingredients)"
   ]
  },
  {
   "cell_type": "code",
   "execution_count": 73,
   "metadata": {},
   "outputs": [
    {
     "data": {
      "text/plain": [
       "0.29636447406793853"
      ]
     },
     "execution_count": 73,
     "metadata": {},
     "output_type": "execute_result"
    }
   ],
   "source": [
    "distance_types_norm(\"Thai\",\"Spanish\",db_types_ingredients)"
   ]
  },
  {
   "cell_type": "code",
   "execution_count": 74,
   "metadata": {},
   "outputs": [
    {
     "data": {
      "text/plain": [
       "0.29636447406793853"
      ]
     },
     "execution_count": 74,
     "metadata": {},
     "output_type": "execute_result"
    }
   ],
   "source": [
    "distance_types_norm(\"Spanish\",\"Thai\",db_types_ingredients)"
   ]
  },
  {
   "cell_type": "markdown",
   "metadata": {},
   "source": [
    "Logical results ? (spanish - italian are more similar than italian-thai)"
   ]
  },
  {
   "cell_type": "code",
   "execution_count": 75,
   "metadata": {},
   "outputs": [
    {
     "data": {
      "text/plain": [
       "0.75766186115969636"
      ]
     },
     "execution_count": 75,
     "metadata": {},
     "output_type": "execute_result"
    }
   ],
   "source": [
    "distance_types_norm(\"Spanish\",\"Italian\",db_types_ingredients)"
   ]
  },
  {
   "cell_type": "code",
   "execution_count": 76,
   "metadata": {},
   "outputs": [
    {
     "data": {
      "text/plain": [
       "0.17957446372424779"
      ]
     },
     "execution_count": 76,
     "metadata": {},
     "output_type": "execute_result"
    }
   ],
   "source": [
    "distance_types_norm(\"Italian\",\"Thai\",db_types_ingredients)"
   ]
  },
  {
   "cell_type": "code",
   "execution_count": 77,
   "metadata": {},
   "outputs": [
    {
     "data": {
      "text/plain": [
       "0.58509647778345419"
      ]
     },
     "execution_count": 77,
     "metadata": {},
     "output_type": "execute_result"
    }
   ],
   "source": [
    "distance_types_norm(\"Japanese\",\"Thai\",db_types_ingredients)"
   ]
  },
  {
   "cell_type": "code",
   "execution_count": 78,
   "metadata": {},
   "outputs": [
    {
     "data": {
      "text/plain": [
       "0.39594140181898174"
      ]
     },
     "execution_count": 78,
     "metadata": {},
     "output_type": "execute_result"
    }
   ],
   "source": [
    "distance_types_norm(\"Japanese\",\"Spanish\",db_types_ingredients)"
   ]
  },
  {
   "cell_type": "code",
   "execution_count": null,
   "metadata": {
    "collapsed": true
   },
   "outputs": [],
   "source": []
  }
 ],
 "metadata": {
  "kernelspec": {
   "display_name": "Python 3",
   "language": "python",
   "name": "python3"
  },
  "language_info": {
   "codemirror_mode": {
    "name": "ipython",
    "version": 3
   },
   "file_extension": ".py",
   "mimetype": "text/x-python",
   "name": "python",
   "nbconvert_exporter": "python",
   "pygments_lexer": "ipython3",
   "version": "3.6.1"
  }
 },
 "nbformat": 4,
 "nbformat_minor": 2
}
