{
 "cells": [
  {
   "cell_type": "code",
   "execution_count": 1,
   "metadata": {
    "scrolled": true
   },
   "outputs": [
    {
     "data": {
      "application/vnd.jupyter.widget-view+json": {
       "model_id": "f2a41b30bec44c9a949d55a34cf12624"
      }
     },
     "metadata": {},
     "output_type": "display_data"
    },
    {
     "data": {
      "application/vnd.jupyter.widget-view+json": {
       "model_id": "b8c1267d97134e96b3b0f1f147e477ad"
      }
     },
     "metadata": {},
     "output_type": "display_data"
    },
    {
     "data": {
      "application/vnd.jupyter.widget-view+json": {
       "model_id": "7b0fc3017b5941e8b53de3b165c0aa18"
      }
     },
     "metadata": {},
     "output_type": "display_data"
    },
    {
     "data": {
      "application/vnd.jupyter.widget-view+json": {
       "model_id": "d2bcd7fbb9834bf9a46819fa9c86c36e"
      }
     },
     "metadata": {},
     "output_type": "display_data"
    },
    {
     "data": {
      "application/vnd.jupyter.widget-view+json": {
       "model_id": "df3813fe375842b19953a4c504144f0c"
      }
     },
     "metadata": {},
     "output_type": "display_data"
    },
    {
     "data": {
      "application/vnd.jupyter.widget-view+json": {
       "model_id": "1eaa1c0fa8984f24abe3aa295ad1ff1a"
      }
     },
     "metadata": {},
     "output_type": "display_data"
    },
    {
     "data": {
      "application/vnd.jupyter.widget-view+json": {
       "model_id": "46506895803a4221b42b39e43cd71955"
      }
     },
     "metadata": {},
     "output_type": "display_data"
    }
   ],
   "source": [
    "import pandas as pd\n",
    "import json\n",
    "\n",
    "#TODO: DeleteUser\n",
    "#TODO: UpdateUser\n",
    "\n",
    "class Users(object):\n",
    "    def __init__(self, filename):\n",
    "        self.filename = filename\n",
    "        self.users = pd.read_json(self.filename).transpose()\n",
    "    \n",
    "    def getUsers(self):\n",
    "        return self.users\n",
    "    \n",
    "    def getUser(self, username):\n",
    "        return self.users.loc[username]\n",
    "    \n",
    "    def newUser(self, username, password, name = '', image = False, allergies = []):\n",
    "        with open('users.json', 'r') as f:\n",
    "            users = json.load(f)\n",
    "        if username in users.keys(): return 'Username taken'\n",
    "        user = {'password' : password,\n",
    "            'name' : name,\n",
    "            'image' : image,\n",
    "            'allergies' : allergies}\n",
    "        users[username] = user\n",
    "        with open('users.json', 'w') as f:\n",
    "            json.dump(users, f)\n",
    "        self.__init__(self.filename)\n",
    "        return 'User added'\n",
    "    \n",
    "u = Users('users.json')  \n",
    "\n",
    "from __future__ import print_function\n",
    "from ipywidgets import interact, interactive, fixed, interact_manual\n",
    "import ipywidgets as widgets\n",
    "from IPython.display import display\n",
    "import hashlib\n",
    "\n",
    "ui = []\n",
    "\n",
    "#TODO: Fix Widget Javascript not detected. It may not be installed or enabled properly.\n",
    "# ^ jupyter nbextension enable --py --sys-prefix widgetsnbextension\n",
    "#TODO: Discover how to use widgets.Password to hide text.\n",
    "#TODO: Find out a way to upload an image. URL?\n",
    "#TODO: Create another submenu to add allergies? Just add them separated by commas?\n",
    "\n",
    "wUser = widgets.Text(description='Username: ')\n",
    "ui.append(wUser)\n",
    "wPass = widgets.Text(description='Password: ')\n",
    "ui.append(wPass)\n",
    "wName = widgets.Text(description='Name: ')\n",
    "ui.append(wName)\n",
    "wImage = widgets.Text(description='Image: ')\n",
    "ui.append(wImage)\n",
    "wAllergies = widgets.Text(description='Allergies: ')\n",
    "ui.append(wAllergies)\n",
    "\n",
    "wButton = widgets.Button(description=\"Create user\")\n",
    "ui.append(wButton)\n",
    "\n",
    "wHTML = widgets.HTML(description=\"\")\n",
    "ui.append(wHTML)\n",
    "\n",
    "for i in range(len(ui)): display(ui[i])\n",
    "\n",
    "def on_button_clicked(b):\n",
    "    if(wUser.value != '' and wPass.value != ''):\n",
    "        allergies = wAllergies.value.replace(' ', '').split(',')\n",
    "        wHTML.value = u.newUser(wUser.value,hashlib.sha256(wPass.value.encode('utf-8')).hexdigest(), wName.value, wImage.value, allergies)\n",
    "        for i in range(len(ui)-2): ui[i].value = ''\n",
    "    else: wHTML.value = 'Username and password are required'\n",
    "\n",
    "wButton.on_click(on_button_clicked)"
   ]
  },
  {
   "cell_type": "code",
   "execution_count": null,
   "metadata": {
    "collapsed": true
   },
   "outputs": [],
   "source": []
  },
  {
   "cell_type": "code",
   "execution_count": null,
   "metadata": {
    "collapsed": true
   },
   "outputs": [],
   "source": []
  }
 ],
 "metadata": {
  "kernelspec": {
   "display_name": "Python 3",
   "language": "python",
   "name": "python3"
  },
  "language_info": {
   "codemirror_mode": {
    "name": "ipython",
    "version": 3
   },
   "file_extension": ".py",
   "mimetype": "text/x-python",
   "name": "python",
   "nbconvert_exporter": "python",
   "pygments_lexer": "ipython3",
   "version": "3.6.2"
  }
 },
 "nbformat": 4,
 "nbformat_minor": 2
}
